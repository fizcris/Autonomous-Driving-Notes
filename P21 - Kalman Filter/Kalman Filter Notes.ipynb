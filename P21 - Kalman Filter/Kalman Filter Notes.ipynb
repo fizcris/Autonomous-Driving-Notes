{
 "cells": [
  {
   "cell_type": "markdown",
   "metadata": {},
   "source": [
    "## Multiply two gaussiand disperssions"
   ]
  },
  {
   "cell_type": "code",
   "execution_count": 5,
   "metadata": {},
   "outputs": [
    {
     "name": "stdout",
     "output_type": "stream",
     "text": [
      "[8.8, 2.4000000000000004]\n"
     ]
    }
   ],
   "source": [
    "def update(mean1, var1, mean2, var2):\n",
    "    new_mean = (1 / (var1+var2)) * (var1*mean2+var2*mean1)\n",
    "    new_var = 1 / ((1/var1) + (1/var2)) \n",
    "    return [new_mean, new_var]\n",
    "\n",
    "def predict(mean1, var1, mean2, var2):\n",
    "    new_mean = mean1 + mean2\n",
    "    new_var = var1 + var2\n",
    "    return [new_mean, new_var]\n",
    "\n",
    "print (update(8.,4.,10., 6.))"
   ]
  },
  {
   "cell_type": "code",
   "execution_count": 15,
   "metadata": {},
   "outputs": [
    {
     "name": "stdout",
     "output_type": "stream",
     "text": [
      "Update:     [4.998000799680128, 3.9984006397441023]\n",
      "Prediction: [10.999906177177365, 4.005861580844194]\n",
      "Update:     [8.498122720053395, 2.0014643223056017]\n",
      "Prediction: [10.999906177177365, 4.005861580844194]\n",
      "Update:     [8.998488800629795, 2.0014643223056017]\n",
      "Prediction: [11.999906177177365, 4.005861580844194]\n",
      "Update:     [10.498854881206194, 2.0014643223056017]\n",
      "Prediction: [10.999906177177365, 4.005861580844194]\n",
      "Update:     [10.499587042358996, 2.0014643223056017]\n",
      "Prediction: [10.999906177177365, 4.005861580844194]\n"
     ]
    }
   ],
   "source": [
    "# 1-D Kalman Filter\n",
    "\n",
    "measurements = [5., 6., 7., 9., 10.]\n",
    "motion = [1., 1., 2., 1., 1.]\n",
    "measurement_sig = 4.\n",
    "motion_sig = 2.\n",
    "mu = 0.\n",
    "sig = 10000.\n",
    "\n",
    "#Please print out ONLY the final values of the mean\n",
    "#and the variance in a list [mu, sig]. \n",
    "\n",
    "# Insert code here\n",
    "for pos in range(len(measurements)):\n",
    "    [mu, sig] = update(measurements[pos], measurement_sig, mu, sig)\n",
    "    print (\"Update:     {}\".format([mu, sig]))\n",
    "    [mu, sig] = prediction = predict(updatedMeas[0],updatedMeas[1],motion[pos], motion_sig)\n",
    "    print (\"Prediction: {}\".format([mu, sig]))\n",
    "    \n",
    "\n",
    "    "
   ]
  },
  {
   "cell_type": "code",
   "execution_count": null,
   "metadata": {},
   "outputs": [],
   "source": []
  }
 ],
 "metadata": {
  "kernelspec": {
   "display_name": "Python 3",
   "language": "python",
   "name": "python3"
  },
  "language_info": {
   "codemirror_mode": {
    "name": "ipython",
    "version": 3
   },
   "file_extension": ".py",
   "mimetype": "text/x-python",
   "name": "python",
   "nbconvert_exporter": "python",
   "pygments_lexer": "ipython3",
   "version": "3.7.3"
  }
 },
 "nbformat": 4,
 "nbformat_minor": 2
}
