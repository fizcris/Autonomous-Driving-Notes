{
 "cells": [
  {
   "cell_type": "markdown",
   "id": "accd3797",
   "metadata": {},
   "source": [
    "## Maximize Gaussian"
   ]
  },
  {
   "cell_type": "code",
   "execution_count": 3,
   "id": "f1afe30d",
   "metadata": {},
   "outputs": [
    {
     "name": "stdout",
     "output_type": "stream",
     "text": [
      "0.19947114020071635\n"
     ]
    }
   ],
   "source": [
    "#For this problem, you aren't writing any code.\n",
    "#Instead, please just change the last argument \n",
    "#in f() to maximize the output.\n",
    "\n",
    "from math import *\n",
    "\n",
    "def f(mu, sigma2, x):\n",
    "    return 1/sqrt(2.*pi*sigma2) * exp(-.5*(x-mu)**2 / sigma2)\n",
    "\n",
    "print (f(10.,4.,10)) #Change the 8. to something else!\n"
   ]
  },
  {
   "cell_type": "markdown",
   "id": "8bc8527e",
   "metadata": {},
   "source": [
    "## Measurement Update (Bayes Rule Multiplication)"
   ]
  },
  {
   "cell_type": "code",
   "execution_count": 6,
   "id": "0ffe86c6",
   "metadata": {},
   "outputs": [
    {
     "name": "stdout",
     "output_type": "stream",
     "text": [
      "[12.4, 1.6]\n"
     ]
    }
   ],
   "source": [
    "# Write a program to update your mean and variance\n",
    "# when given the mean and variance of your belief\n",
    "# and the mean and variance of your measurement.\n",
    "# This program will update the parameters of your\n",
    "# belief function.\n",
    "\n",
    "def update(mean1, var1, mean2, var2):\n",
    "    new_mean = (1 / (var1+var2)) * (var1*mean2+var2*mean1)\n",
    "    new_var = 1 / ((1/var1) + (1/var2)) \n",
    "    return [new_mean, new_var]\n",
    "\n",
    "print (update(10.,8.,13., 2.))"
   ]
  },
  {
   "cell_type": "markdown",
   "id": "fa15f213",
   "metadata": {},
   "source": [
    "## Motion update (Total probability)"
   ]
  },
  {
   "cell_type": "code",
   "execution_count": 8,
   "id": "548c095c",
   "metadata": {},
   "outputs": [
    {
     "name": "stdout",
     "output_type": "stream",
     "text": [
      "[22.0, 8.0]\n"
     ]
    }
   ],
   "source": [
    "# Write a program that will predict your new mean\n",
    "# and variance given the mean and variance of your \n",
    "# prior belief and the mean and variance of your \n",
    "# motion. \n",
    "\n",
    "def predict(mean1, var1, mean2, var2):\n",
    "    new_mean = mean1 + mean2\n",
    "    new_var = var1 + var2\n",
    "    return [new_mean, new_var]\n",
    "\n",
    "print (predict(10., 4., 12., 4.))"
   ]
  },
  {
   "cell_type": "markdown",
   "id": "706f1ec7",
   "metadata": {},
   "source": [
    "## Iteractive update and prdecition"
   ]
  },
  {
   "cell_type": "code",
   "execution_count": 13,
   "id": "aef4c52b",
   "metadata": {},
   "outputs": [
    {
     "name": "stdout",
     "output_type": "stream",
     "text": [
      "[5.998000799680128, 5.998400639744102]\n",
      "[6.999200191953932, 4.399744061425258]\n",
      "[8.999619127420921, 4.09518005751176]\n",
      "[9.999811802788143, 4.023515241621696]\n",
      "[10.999906177177365, 4.005861580844194]\n"
     ]
    }
   ],
   "source": [
    "# Write a program that will iteratively update and\n",
    "# predict based on the location measurements \n",
    "# and inferred motions shown below. \n",
    "\n",
    "def update(mean1, var1, mean2, var2):\n",
    "    new_mean = float(var2 * mean1 + var1 * mean2) / (var1 + var2)\n",
    "    new_var = 1./(1./var1 + 1./var2)\n",
    "    return [new_mean, new_var]\n",
    "\n",
    "def predict(mean1, var1, mean2, var2):\n",
    "    new_mean = mean1 + mean2\n",
    "    new_var = var1 + var2\n",
    "    return [new_mean, new_var]\n",
    "\n",
    "measurements = [5., 6., 7., 9., 10.]\n",
    "motion = [1., 1., 2., 1., 1.]\n",
    "measurement_sig = 4.\n",
    "motion_sig = 2.\n",
    "mu = 0.\n",
    "sig = 10000.\n",
    "\n",
    "#Please print out ONLY the final values of the mean\n",
    "#and the variance in a list [mu, sig]. \n",
    "\n",
    "# Insert code here\n",
    "for pos in range(len(measurements)):\n",
    "    updatedMeas = update(measurements[pos], measurement_sig, mu, sig)\n",
    "    prediction = predict(updatedMeas[0],updatedMeas[1],motion[pos], motion_sig)\n",
    "    \n",
    "    mu = prediction [0]\n",
    "    sig = prediction [1]\n",
    "    print ([mu, sig])\n"
   ]
  },
  {
   "cell_type": "code",
   "execution_count": null,
   "id": "e46fb3be",
   "metadata": {},
   "outputs": [],
   "source": [
    "x_prime = x + x_dot*delta_t"
   ]
  },
  {
   "cell_type": "markdown",
   "id": "7d53cbf3",
   "metadata": {},
   "source": [
    "## Multi-dimensional Kalman Filter\n",
    "\n",
    "[Video](https://www.youtube.com/watch?v=LEuzK9X7_hM&t=112s)"
   ]
  },
  {
   "cell_type": "code",
   "execution_count": 70,
   "id": "336cd22e",
   "metadata": {},
   "outputs": [
    {
     "name": "stdout",
     "output_type": "stream",
     "text": [
      "[1.0]\n",
      " \n"
     ]
    }
   ],
   "source": [
    "y = matrix([[1]]) - H*x\n",
    "y.show()"
   ]
  },
  {
   "cell_type": "code",
   "execution_count": 78,
   "id": "b640b490",
   "metadata": {},
   "outputs": [
    {
     "name": "stdout",
     "output_type": "stream",
     "text": [
      "x= \n",
      "[0.9990009990009988]\n",
      "[0.0]\n",
      " \n",
      "P= \n",
      "[1000.9990009990012, 1000.0]\n",
      "[1000.0, 1000.0]\n",
      " \n",
      "K= \n",
      "[0.9990009990009988]\n",
      "[0.0]\n",
      " \n",
      "x= \n",
      "[2.998002993017953]\n",
      "[0.9990019950129659]\n",
      " \n",
      "P= \n",
      "[4.990024935169789, 2.9930179531228447]\n",
      "[2.9930179531228305, 1.9950129660888933]\n",
      " \n",
      "K= \n",
      "[0.999001995012966]\n",
      "[0.998004987033911]\n",
      " \n",
      "x= \n",
      "[3.9996664447958645]\n",
      "[0.9999998335552873]\n",
      " \n",
      "P= \n",
      "[2.3318904241194827, 0.9991676099921091]\n",
      "[0.9991676099921067, 0.49950058263974184]\n",
      " \n",
      "K= \n",
      "[0.8330557867750087]\n",
      "[0.49966702735236485]\n",
      " \n",
      "([[3.9996664447958645], [0.9999998335552873]], [[2.3318904241194827, 0.9991676099921091], [0.9991676099921067, 0.49950058263974184]])\n"
     ]
    }
   ],
   "source": [
    "# Write a function 'kalman_filter' that implements a multi-\n",
    "# dimensional Kalman Filter for the example given\n",
    "\n",
    "from math import *\n",
    "\n",
    "\n",
    "class matrix:\n",
    "    \n",
    "    # implements basic operations of a matrix class\n",
    "    \n",
    "    def __init__(self, value):\n",
    "        self.value = value\n",
    "        self.dimx = len(value)\n",
    "        self.dimy = len(value[0])\n",
    "        if value == [[]]:\n",
    "            self.dimx = 0\n",
    "    \n",
    "    def zero(self, dimx, dimy):\n",
    "        # check if valid dimensions\n",
    "        if dimx < 1 or dimy < 1:\n",
    "            raise ValueError(\"Invalid size of matrix\")\n",
    "        else:\n",
    "            self.dimx = dimx\n",
    "            self.dimy = dimy\n",
    "            self.value = [[0 for row in range(dimy)] for col in range(dimx)]\n",
    "    \n",
    "    def identity(self, dim):\n",
    "        # check if valid dimension\n",
    "        if dim < 1:\n",
    "            raise ValueError(\"Invalid size of matrix\")\n",
    "        else:\n",
    "            self.dimx = dim\n",
    "            self.dimy = dim\n",
    "            self.value = [[0 for row in range(dim)] for col in range(dim)]\n",
    "            for i in range(dim):\n",
    "                self.value[i][i] = 1\n",
    "    \n",
    "    def show(self):\n",
    "        for i in range(self.dimx):\n",
    "            print(self.value[i])\n",
    "        print(' ')\n",
    "    \n",
    "    def __add__(self, other):\n",
    "        # check if correct dimensions\n",
    "        if self.dimx != other.dimx or self.dimy != other.dimy:\n",
    "            raise ValueError(\"Matrices must be of equal dimensions to add\")\n",
    "        else:\n",
    "            # add if correct dimensions\n",
    "            res = matrix([[]])\n",
    "            res.zero(self.dimx, self.dimy)\n",
    "            for i in range(self.dimx):\n",
    "                for j in range(self.dimy):\n",
    "                    res.value[i][j] = self.value[i][j] + other.value[i][j]\n",
    "            return res\n",
    "    \n",
    "    def __sub__(self, other):\n",
    "        # check if correct dimensions\n",
    "        if self.dimx != other.dimx or self.dimy != other.dimy:\n",
    "            raise ValueError(\"Matrices must be of equal dimensions to subtract\")\n",
    "        else:\n",
    "            # subtract if correct dimensions\n",
    "            res = matrix([[]])\n",
    "            res.zero(self.dimx, self.dimy)\n",
    "            for i in range(self.dimx):\n",
    "                for j in range(self.dimy):\n",
    "                    res.value[i][j] = self.value[i][j] - other.value[i][j]\n",
    "            return res\n",
    "    \n",
    "    def __mul__(self, other):\n",
    "        # check if correct dimensions\n",
    "        if self.dimy != other.dimx:\n",
    "            raise ValueError(\"Matrices must be m*n and n*p to multiply\")\n",
    "        else:\n",
    "            # multiply if correct dimensions\n",
    "            res = matrix([[]])\n",
    "            res.zero(self.dimx, other.dimy)\n",
    "            for i in range(self.dimx):\n",
    "                for j in range(other.dimy):\n",
    "                    for k in range(self.dimy):\n",
    "                        res.value[i][j] += self.value[i][k] * other.value[k][j]\n",
    "            return res\n",
    "    \n",
    "    def transpose(self):\n",
    "        # compute transpose\n",
    "        res = matrix([[]])\n",
    "        res.zero(self.dimy, self.dimx)\n",
    "        for i in range(self.dimx):\n",
    "            for j in range(self.dimy):\n",
    "                res.value[j][i] = self.value[i][j]\n",
    "        return res\n",
    "    \n",
    "    # Thanks to Ernesto P. Adorio for use of Cholesky and CholeskyInverse functions\n",
    "    \n",
    "    def Cholesky(self, ztol=1.0e-5):\n",
    "        # Computes the upper triangular Cholesky factorization of\n",
    "        # a positive definite matrix.\n",
    "        res = matrix([[]])\n",
    "        res.zero(self.dimx, self.dimx)\n",
    "        \n",
    "        for i in range(self.dimx):\n",
    "            S = sum([(res.value[k][i])**2 for k in range(i)])\n",
    "            d = self.value[i][i] - S\n",
    "            if abs(d) < ztol:\n",
    "                res.value[i][i] = 0.0\n",
    "            else:\n",
    "                if d < 0.0:\n",
    "                    raise ValueError(\"Matrix not positive-definite\")\n",
    "                res.value[i][i] = sqrt(d)\n",
    "            for j in range(i+1, self.dimx):\n",
    "                S = sum([res.value[k][i] * res.value[k][j] for k in range(self.dimx)])\n",
    "                if abs(S) < ztol:\n",
    "                    S = 0.0\n",
    "                try:\n",
    "                   res.value[i][j] = (self.value[i][j] - S)/res.value[i][i]\n",
    "                except:\n",
    "                   raise ValueError(\"Zero diagonal\")\n",
    "        return res\n",
    "    \n",
    "    def CholeskyInverse(self):\n",
    "        # Computes inverse of matrix given its Cholesky upper Triangular\n",
    "        # decomposition of matrix.\n",
    "        res = matrix([[]])\n",
    "        res.zero(self.dimx, self.dimx)\n",
    "        \n",
    "        # Backward step for inverse.\n",
    "        for j in reversed(range(self.dimx)):\n",
    "            tjj = self.value[j][j]\n",
    "            S = sum([self.value[j][k]*res.value[j][k] for k in range(j+1, self.dimx)])\n",
    "            res.value[j][j] = 1.0/tjj**2 - S/tjj\n",
    "            for i in reversed(range(j)):\n",
    "                res.value[j][i] = res.value[i][j] = -sum([self.value[i][k]*res.value[k][j] for k in range(i+1, self.dimx)])/self.value[i][i]\n",
    "        return res\n",
    "    \n",
    "    def inverse(self):\n",
    "        aux = self.Cholesky()\n",
    "        res = aux.CholeskyInverse()\n",
    "        return res\n",
    "    \n",
    "    def __repr__(self):\n",
    "        return repr(self.value)\n",
    "\n",
    "\n",
    "########################################\n",
    "\n",
    "# Implement the filter function below\n",
    "\n",
    "def kalman_filter(x, P):\n",
    "    for n in range(len(measurements)):\n",
    "            \n",
    "        # Measurement update (Kalman gain)\n",
    "        S = H*P*H.transpose() + R\n",
    "        K = P * H.transpose() * S.inverse()  # Kalman Gain  [0-1] [Measurements Innacurate - Measurements Acurate]\n",
    "    \n",
    "        # Current State Estimation - (measurements)\n",
    "        y = matrix([[measurements[n]]]) - (H*x) # Error calculation (measurement and previous estimate)\n",
    "        x_est = x + K*y # Prediction/Estimation \n",
    "        P_est = (I - (K*H)) * P # Covareiance in current state estimation\n",
    "        \n",
    "        # Prediction\n",
    "        x = F*x_est + u\n",
    "        P = F*P_est*F.transpose()\n",
    "        \n",
    "        print(\"x= \")\n",
    "        x.show()\n",
    "        print(\"P= \")\n",
    "        P.show()\n",
    "        print(\"K= \")\n",
    "        K.show()\n",
    "        \n",
    "    return x,P\n",
    "\n",
    "############################################\n",
    "### use the code below to test your filter!\n",
    "############################################\n",
    "\n",
    "measurements = [1., 2., 3.]\n",
    "\n",
    "x = matrix([[0.], [0.]]) # initial state (location and velocity)\n",
    "P = matrix([[1000., 0.], [0., 1000.]]) # initial uncertainty/error\n",
    "u = matrix([[0.], [0.]]) # external motion\n",
    "F =  matrix([[1., 1.], [0, 1.]]) # next state function\n",
    "H = matrix([[1., 0.]]) # measurement function\n",
    "R = matrix([[1.]]) # measurement uncertainty\n",
    "I = matrix([[1., 0.], [0., 1.]]) # identity matrix\n",
    "\n",
    "print(kalman_filter(x, P))\n",
    "# output should be:\n",
    "# x: [[3.9996664447958645], [0.9999998335552873]]\n",
    "# P: [[2.3318904241194827, 0.9991676099921091], [0.9991676099921067, 0.49950058263974184]]\n"
   ]
  },
  {
   "cell_type": "code",
   "execution_count": null,
   "id": "28095b0a",
   "metadata": {},
   "outputs": [],
   "source": []
  }
 ],
 "metadata": {
  "kernelspec": {
   "display_name": "Python 3",
   "language": "python",
   "name": "python3"
  },
  "language_info": {
   "codemirror_mode": {
    "name": "ipython",
    "version": 3
   },
   "file_extension": ".py",
   "mimetype": "text/x-python",
   "name": "python",
   "nbconvert_exporter": "python",
   "pygments_lexer": "ipython3",
   "version": "3.8.8"
  }
 },
 "nbformat": 4,
 "nbformat_minor": 5
}
